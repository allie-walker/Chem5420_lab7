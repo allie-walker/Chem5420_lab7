{
 "cells": [
  {
   "cell_type": "code",
   "execution_count": 2,
   "metadata": {},
   "outputs": [],
   "source": [
    "import xml.etree.ElementTree as ET\n",
    "import matplotlib.pyplot as plt\n",
    "import numpy as np\n",
    "import seaborn as sns\n",
    "import pandas as pd"
   ]
  },
  {
   "cell_type": "markdown",
   "metadata": {},
   "source": [
    "# List filenames"
   ]
  },
  {
   "cell_type": "code",
   "execution_count": 3,
   "metadata": {},
   "outputs": [],
   "source": [
    "fasta_directory = \"fastas/\"\n",
    "xml_directory = \"pdbtm_xmls/\"\n",
    "topcons_pred_directory = \"topcons/\"\n",
    "\n",
    "#TODO: add EGFR to the approriate list\n",
    "#the order of the files must match for each list (e.g. if EGFR is listed first in the fasta_fnames, it should be first in all lists)\n",
    "alpha_ids= [\"1bl8\", \"1c17\", \"4qkx\", \"6d6t\"]\n",
    "beta_ids = [\"1a0t\", \"1bxw\"]\n"
   ]
  },
  {
   "cell_type": "markdown",
   "metadata": {},
   "source": [
    "# Analysis of sequence-based prediction accuracy\n",
    "We will analyze the relative accuracies of topcons, octopus, philius, polyphobius, scampi, and scoptopus for predicting alpha helical TM regions\n",
    "\n",
    "We will also analyze the accuracy of topcons on each structure\n",
    "\n",
    "The output of this cell should be two graphs - one showing the accuracy of each prediction method. The other showing the accuracy for each structure."
   ]
  },
  {
   "cell_type": "code",
   "execution_count": 21,
   "metadata": {},
   "outputs": [
    {
     "data": {
      "text/plain": [
       "<BarContainer object of 4 artists>"
      ]
     },
     "execution_count": 21,
     "metadata": {},
     "output_type": "execute_result"
    },
    {
     "data": {
      "image/png": "[encoded data removed]",
      "text/plain": [
       "<Figure size 1332x756 with 2 Axes>"
      ]
     },
     "metadata": {
      "needs_background": "light"
     },
     "output_type": "display_data"
    }
   ],
   "source": [
    "#load topcons predictions\n",
    "prediction_methods = [\"topcons\", \"octopus\", \"philius\", \"polyphobius\", \"scampi\", \"spoctopus\"]\n",
    "topcons_preds = {}\n",
    "method_accuracies = {}\n",
    "avg_accuracies = {}\n",
    "std_accuracies = {}\n",
    "seq_lengths = {}\n",
    "for m in prediction_methods:\n",
    "    topcons_preds[m] = {}\n",
    "    method_accuracies[m] = {}\n",
    "    avg_accuracies[m] = 0\n",
    "    std_accuracies[m] = 0\n",
    "\n",
    "#get topcons predictions from file\n",
    "for i in alpha_ids:\n",
    "    topcons_file = open(topcons_pred_directory + i + \".txt\")\n",
    "    next_type = \"none\"\n",
    "    for line in topcons_file:\n",
    "        if \"TOPCONS2\" in line or \"Generated\" in line or \"reliability\" in line:\n",
    "            continue\n",
    "        if next_type != \"none\":\n",
    "            topcons_preds[next_type][i] = line.replace(\"\\n\",\"\")\n",
    "            next_type = \"none\"\n",
    "        for m in prediction_methods:\n",
    "            if m in line.lower():\n",
    "                next_type = m\n",
    "    seq_lengths[i] = len(topcons_preds[\"topcons\"][i])\n",
    "                \n",
    "#get values from xml files\n",
    "pdbtm_structs = {}\n",
    "for i in alpha_ids:\n",
    "    struct_seq = \"\"\n",
    "    xml_fname = xml_directory + i + \".xml\"\n",
    "    tree = ET.parse(xml_fname)\n",
    "    root = tree.getroot()\n",
    "    for child in root:\n",
    "        if \"CHAINID\" in child.attrib and child.attrib['CHAINID']== 'A':\n",
    "            chain_tree = child\n",
    "    first = True\n",
    "    for child in chain_tree:\n",
    "        if \"seq_beg\" not in child.attrib:\n",
    "            continue\n",
    "        seq_beg = int(child.attrib[\"seq_beg\"])\n",
    "        seq_end = int(child.attrib[\"seq_end\"])\n",
    "        struct_type = child.attrib[\"type\"]\n",
    "        if first and seq_beg != 1:\n",
    "            for index in range(1, seq_beg):\n",
    "                struct_seq += \"U\"\n",
    "            \n",
    "        first = False\n",
    "        for index in range(seq_beg, seq_end+1):\n",
    "            struct_seq += struct_type\n",
    "    for index in range(seq_end, seq_lengths[i]):\n",
    "        struct_seq += \"U\"\n",
    "    pdbtm_structs[i]  = struct_seq\n",
    "            \n",
    "        \n",
    "#calc total and individual structure accuracies\n",
    "#because topcons and pdb tm use different annotation types, we will calculate accuracy on if topcons corrected predicted a helix (H)\n",
    "#or non-helix (N)\n",
    "\n",
    "#determine accuracy for each method and protein, fill in the metod_accuracy dictionary\n",
    "for m in method_accuracies:\n",
    "    for i in alpha_ids:\n",
    "        pred_seq = topcons_preds[m][i].replace(\"S\",\"N\").replace(\"i\",\"N\").replace(\"o\",\"N\").replace(\"M\",\"H\")\n",
    "        pdbtm_seq = pdbtm_structs[i].replace(\"1\", \"N\").replace(\"2\", \"N\").replace(\"L\", \"N\").replace(\"F\",\"N\")\n",
    "        matches = 0\n",
    "        total = 0\n",
    "        for (x,y) in zip(pred_seq, pdbtm_seq):\n",
    "            if y == \"U\":\n",
    "                continue\n",
    "            total += 1\n",
    "            if x == y:\n",
    "                matches +=1\n",
    "        method_accuracies[m][i] = matches/total\n",
    "\n",
    "#average accuracies\n",
    "for m in method_accuracies:\n",
    "    avg_accuracies[m] = np.average(list(method_accuracies[m].values()))\n",
    "    std_accuracies[m] = np.std(list(method_accuracies[m].values()))\n",
    "\n",
    "#make bar graphs\n",
    "figure, axes = plt.subplots(nrows=1, ncols=2)\n",
    "figure.set_size_inches(18.5, 10.5)\n",
    "axes[0].bar(avg_accuracies.keys(),avg_accuracies.values(),yerr=std_accuracies.values())\n",
    "axes[1].bar(method_accuracies[\"topcons\"].keys(),method_accuracies[\"topcons\"].values())"
   ]
  },
  {
   "cell_type": "markdown",
   "metadata": {},
   "source": [
    "# Analysis of amino acid preference\n",
    "We will analyze the amino acid distribution for four types of structures:\n",
    "- not membrane associated\n",
    "- TM Helix\n",
    "- TM beta bundle\n",
    "- Membrane loop (loop that dips into the membrane)\n",
    "- Interfacial helix (helix close to but not inside membrane)"
   ]
  },
  {
   "cell_type": "code",
   "execution_count": 17,
   "metadata": {},
   "outputs": [
    {
     "data": {
      "image/png": "[encoded data removed]",
      "text/plain": [
       "<Figure size 432x288 with 2 Axes>"
      ]
     },
     "metadata": {
      "needs_background": "light"
     },
     "output_type": "display_data"
    }
   ],
   "source": [
    "all_ids = alpha_ids + beta_ids\n",
    "types = [\"O\", \"H\", \"B\", \"L\", \"F\"]\n",
    "aas= [\"A\", \"C\", \"D\", \"E\", \"F\", \"G\", \"H\", \"I\", \"K\", \"L\", \"M\", \"N\", \"P\",\"Q\", \"R\", \"S\", \"T\", \"V\", \"W\", \"Y\"]\n",
    "aas_by_type = {}\n",
    "for t in types:\n",
    "    aas_by_type[t] = {}\n",
    "    for a in aas:\n",
    "        aas_by_type[t][a] = 0\n",
    "    \n",
    "\n",
    "for i in all_ids:\n",
    "    chain_trees = []\n",
    "    xml_fname = xml_directory + i + \".xml\"\n",
    "    tree = ET.parse(xml_fname)\n",
    "    root = tree.getroot()\n",
    "    for child in root:\n",
    "        if \"CHAINID\" in child.attrib:\n",
    "            seq = \"\"\n",
    "            chain_tree = child\n",
    "            for child in chain_tree:\n",
    "                if \"SEQ\" in child.tag:\n",
    "                    seq = child.text.replace(\" \", \"\").replace(\"\\n\", \"\")\n",
    "                    continue\n",
    "                    \n",
    "                seq_beg = int(child.attrib[\"seq_beg\"])\n",
    "                seq_end = int(child.attrib[\"seq_end\"])\n",
    "                struct_type = child.attrib[\"type\"]\n",
    "                \n",
    "                #replace 1 and 2 with O for outside membrane\n",
    "                if struct_type == \"1\" or struct_type == \"2\":\n",
    "                    struct_type = \"O\"\n",
    "                \n",
    "                if struct_type not in types:\n",
    "                    continue\n",
    "                \n",
    "                sub_seq = seq[seq_beg-1:seq_end] \n",
    "                for c in sub_seq:\n",
    "                    if c not in aas:\n",
    "                        continue\n",
    "                    aas_by_type[struct_type][c] += 1\n",
    "\n",
    "#calculate frequency of each amino acid for each type\n",
    "for t in aas_by_type:\n",
    "    total_aas = np.sum(list(aas_by_type[t].values()))\n",
    "    for a in aas_by_type[t]:\n",
    "        aas_by_type[t][a] /= total_aas\n",
    "\n",
    "data = {'col_1': types, 'col_2': aas}\n",
    "df = pd.DataFrame.from_dict(aas_by_type)\n",
    "\n",
    "#display heatmap\n",
    "sns.heatmap(df);"
   ]
  },
  {
   "cell_type": "code",
   "execution_count": null,
   "metadata": {},
   "outputs": [],
   "source": []
  }
 ],
 "metadata": {
  "kernelspec": {
   "display_name": "Python 3",
   "language": "python",
   "name": "python3"
  },
  "language_info": {
   "codemirror_mode": {
    "name": "ipython",
    "version": 3
   },
   "file_extension": ".py",
   "mimetype": "text/x-python",
   "name": "python",
   "nbconvert_exporter": "python",
   "pygments_lexer": "ipython3",
   "version": "3.8.3"
  }
 },
 "nbformat": 4,
 "nbformat_minor": 4
}
